{
 "cells": [
  {
   "cell_type": "code",
   "execution_count": 1,
   "id": "dd0d39be",
   "metadata": {},
   "outputs": [
    {
     "name": "stdout",
     "output_type": "stream",
     "text": [
      "Data Frame:\n",
      "        unit price  number\n",
      "store1        1000      25\n",
      "store2         280     120\n",
      "store3         900      30\n",
      "\n",
      "Data Frame with total price:\n",
      "        unit price  number  total price\n",
      "store1        1000      25        25000\n",
      "store2         280     120        33600\n",
      "store3         900      30        27000\n",
      "\n",
      "top 2 stores by total price:\n",
      "        unit price  number  total price\n",
      "store2         280     120        33600\n",
      "store3         900      30        27000\n"
     ]
    }
   ],
   "source": [
    "def main():\n",
    "    import pandas as pd\n",
    "\n",
    "    df = pd.DataFrame({\n",
    "        'unit price': [1000, 280, 900],\n",
    "        'number': [25, 120, 30]\n",
    "    }, index=['store1', 'store2', 'store3'])\n",
    "    print(\"Data Frame:\")\n",
    "    print(df)\n",
    "    \n",
    "    df['total price'] = df['unit price'] * df['number']\n",
    "    print(\"\\nData Frame with total price:\")\n",
    "    print(df)\n",
    "    \n",
    "    \n",
    "    sorted_df = df.sort_values(by='total price', ascending=False)\n",
    "    print(\"\\ntop 2 stores by total price:\")\n",
    "    print(sorted_df.head(2))\n",
    "\n",
    "if __name__=='__main__':\n",
    "    main()"
   ]
  }
 ],
 "metadata": {
  "kernelspec": {
   "display_name": "Python 3 (ipykernel)",
   "language": "python",
   "name": "python3"
  },
  "language_info": {
   "codemirror_mode": {
    "name": "ipython",
    "version": 3
   },
   "file_extension": ".py",
   "mimetype": "text/x-python",
   "name": "python",
   "nbconvert_exporter": "python",
   "pygments_lexer": "ipython3",
   "version": "3.10.4"
  }
 },
 "nbformat": 4,
 "nbformat_minor": 5
}
