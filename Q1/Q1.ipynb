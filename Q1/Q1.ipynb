{
 "cells": [
  {
   "cell_type": "code",
   "execution_count": 18,
   "id": "bf96fcf1",
   "metadata": {},
   "outputs": [
    {
     "name": "stdout",
     "output_type": "stream",
     "text": [
      "Eigenvalues?\n",
      "[-0.37228132  5.37228132]\n",
      "\n",
      "Eigenvectors?\n",
      "[[-0.82456484 -0.41597356]\n",
      " [ 0.56576746 -0.90937671]]\n",
      "\n",
      "Determinant?\n",
      "-2.0000000000000004\n",
      "\n",
      "Cross product?\n",
      "[-3  6 -3]\n",
      "\n",
      "Solution?\n",
      "[-1. -4.  3.]\n"
     ]
    }
   ],
   "source": [
    "import numpy as np\n",
    "arr=[[1,2],[3,4]]\n",
    "arr = np.array(arr)\n",
    "\n",
    "eigenvalues, eigenvectors = np.linalg.eig(arr)\n",
    "determinant = np.linalg.det(arr)\n",
    "\n",
    "print(\"Eigenvalues?\")\n",
    "print(eigenvalues)\n",
    "print(\"\\nEigenvectors?\")\n",
    "print(eigenvectors)\n",
    "print(\"\\nDeterminant?\")\n",
    "print(determinant)\n",
    "\n",
    "vec1 = np.array([1, 2, 3])\n",
    "vec2 = np.array([4, 5, 6])\n",
    "\n",
    "cross_product = np.cross(vec1, vec2)\n",
    "print(\"\\nCross product?\")\n",
    "print(cross_product)\n",
    "\n",
    "A = np.array([[1, 2, -2],\n",
    "              [2, 1, -5],\n",
    "              [1, -4, 1]])\n",
    "b = np.array([-15, -21, 18])\n",
    "solution = np.linalg.solve(A, b)\n",
    "\n",
    "print(\"\\nSolution?\")\n",
    "print(solution)"
   ]
  }
 ],
 "metadata": {
  "kernelspec": {
   "display_name": "Python 3 (ipykernel)",
   "language": "python",
   "name": "python3"
  },
  "language_info": {
   "codemirror_mode": {
    "name": "ipython",
    "version": 3
   },
   "file_extension": ".py",
   "mimetype": "text/x-python",
   "name": "python",
   "nbconvert_exporter": "python",
   "pygments_lexer": "ipython3",
   "version": "3.10.4"
  }
 },
 "nbformat": 4,
 "nbformat_minor": 5
}
