{
 "cells": [
  {
   "cell_type": "code",
   "execution_count": 2,
   "id": "7b2d5048",
   "metadata": {},
   "outputs": [
    {
     "name": "stdout",
     "output_type": "stream",
     "text": [
      "doc1=0.58\n",
      "doc2=0.87\n",
      "doc3=0.67\n"
     ]
    }
   ],
   "source": [
    "def main():\n",
    "    import numpy as np\n",
    "    Docs = np.array([[1,1,0,1,0,1],\n",
    "                    [1,1,1,0,1,0],\n",
    "                    [1,1,0,1,0,0]])\n",
    "    Query = np.array([1,1,0,0,1,0])\n",
    "    \n",
    "    def cosine_similarity(a, b):\n",
    "        dot_product = np.dot(a, b)\n",
    "        norm_a = np.linalg.norm(a)\n",
    "        norm_b = np.linalg.norm(b)\n",
    "        similarity = dot_product / (norm_a * norm_b)\n",
    "        return similarity\n",
    "    \n",
    "    for i, doc in enumerate(Docs):\n",
    "        similarity = cosine_similarity(doc, Query)\n",
    "        print(f\"doc{i+1}={similarity:.2f}\")\n",
    "        \n",
    "if __name__=='__main__':\n",
    "    main()"
   ]
  }
 ],
 "metadata": {
  "kernelspec": {
   "display_name": "Python 3 (ipykernel)",
   "language": "python",
   "name": "python3"
  },
  "language_info": {
   "codemirror_mode": {
    "name": "ipython",
    "version": 3
   },
   "file_extension": ".py",
   "mimetype": "text/x-python",
   "name": "python",
   "nbconvert_exporter": "python",
   "pygments_lexer": "ipython3",
   "version": "3.10.4"
  }
 },
 "nbformat": 4,
 "nbformat_minor": 5
}
